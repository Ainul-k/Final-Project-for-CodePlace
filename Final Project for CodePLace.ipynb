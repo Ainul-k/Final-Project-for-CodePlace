{
 "cells": [
  {
   "cell_type": "markdown",
   "id": "2552d9f5-837c-424e-8d00-d8fbf5df033c",
   "metadata": {},
   "source": [
    "# Final Project"
   ]
  },
  {
   "cell_type": "markdown",
   "id": "9ddb6c8a-db89-4bbb-9336-d9774531d292",
   "metadata": {},
   "source": [
    "## Project Name: Waveforms in Motion: SHM in Real-Time\n",
    "####    author: Mohammad Ainul Karim"
   ]
  },
  {
   "cell_type": "markdown",
   "id": "4996f7d2-80f0-4723-8773-921e14458c05",
   "metadata": {},
   "source": [
    "### Goal:\n",
    "#### To simulate Simple Harmonic Motion (SHM) in real-time using Python, where:\n",
    "\n",
    "1. A moving object (like a pendulum bob) is animated using Pygame\n",
    "\n",
    "2. A live graph of displacement vs. time is plotted simultaneously using Matplotlib"
   ]
  },
  {
   "cell_type": "markdown",
   "id": "946410eb-5ab9-43cb-8702-40e010ee581d",
   "metadata": {
    "jp-MarkdownHeadingCollapsed": true
   },
   "source": [
    "### Physics Background: Simple Harmonic Motion (SHM)\n",
    "\n",
    "#### Equation for SHM:\n",
    "          x(t)=Asin⁡(ωt)\n",
    "\n",
    "\n",
    "    Where:\n",
    "\n",
    "    x(t): Displacement at time t\n",
    "\n",
    "    A: Amplitude\n",
    "\n",
    "    ω=2πf: Angular frequency\n",
    "\n",
    "    f: Frequency (Hz)\n",
    "\n",
    "    t: Time\n",
    "\n",
    "    This equation tells us how the object moves in a smooth, repetitive back-and-forth motion.\n"
   ]
  },
  {
   "cell_type": "code",
   "execution_count": 111,
   "id": "0a6924bb-a332-447a-b0e0-acf1422ade92",
   "metadata": {},
   "outputs": [
    {
     "name": "stdout",
     "output_type": "stream",
     "text": [
      "Defaulting to user installation because normal site-packages is not writeable\n",
      "Requirement already satisfied: pygame in c:\\users\\user-pc\\appdata\\roaming\\python\\python312\\site-packages (2.6.1)\n"
     ]
    }
   ],
   "source": [
    "!pip install pygame"
   ]
  },
  {
   "cell_type": "code",
   "execution_count": 112,
   "id": "59fa9cd6-50d7-4e31-a5a4-13a861b183b5",
   "metadata": {},
   "outputs": [],
   "source": [
    "#Importing Modules\n",
    "import pygame\n",
    "import matplotlib.pyplot as plt\n",
    "import numpy as np\n",
    "import time\n",
    "import threading\n",
    "import math\n",
    "import sys"
   ]
  },
  {
   "cell_type": "code",
   "execution_count": 113,
   "id": "b5a51aeb-7a61-44ad-8d46-a59632987ff1",
   "metadata": {},
   "outputs": [],
   "source": [
    "#Simulation Constants\n",
    "# SHM parameter\n",
    "AMPLITUDE = 100          # max. deviation (px)\n",
    "FREQUENCY = 0.5          # Hz\n",
    "OMEGA = 2 * np.pi * FREQUENCY\n",
    "SCREEN_WIDTH, SCREEN_HEIGHT = 800, 600\n",
    "CENTER_Y = SCREEN_HEIGHT // 2"
   ]
  },
  {
   "cell_type": "code",
   "execution_count": 114,
   "id": "4f36b389-4169-43e2-b50e-a34365287909",
   "metadata": {},
   "outputs": [],
   "source": [
    "# store live data\n",
    "time_data = []\n",
    "disp_data = []"
   ]
  },
  {
   "cell_type": "code",
   "execution_count": 115,
   "id": "90a3e547-c1eb-4b11-bba3-c807a50b84a3",
   "metadata": {},
   "outputs": [],
   "source": [
    "# pygame simuation function\n",
    "def run_pygame():\n",
    "    pygame.init()\n",
    "    screen = pygame.display.set_mode((SCREEN_WIDTH, SCREEN_HEIGHT))\n",
    "    pygame.display.set_caption(\"Waveforms in Motion: SHM Real-Time\")\n",
    "\n",
    "    clock = pygame.time.Clock()\n",
    "    start_time = time.time()\n",
    "\n",
    "    running = True\n",
    "    while running:\n",
    "        screen.fill((30, 30, 60))  # backgraound color\n",
    "\n",
    "        for event in pygame.event.get():\n",
    "            if event.type == pygame.QUIT:\n",
    "                running = False\n",
    "# time and position\n",
    "        t = time.time() - start_time\n",
    "        displacement = AMPLITUDE * np.sin(OMEGA * t)\n",
    "        ball_y = CENTER_Y + displacement\n",
    "# draw ball\n",
    "        pygame.draw.line(screen, (200, 200, 200), (SCREEN_WIDTH // 2, 0), (SCREEN_WIDTH // 2, int(ball_y)), 2)\n",
    "        pygame.draw.circle(screen, (255, 100, 100), (SCREEN_WIDTH // 2, int(ball_y)), 20)\n",
    "\n",
    "        pygame.display.flip()\n",
    "        clock.tick(60)\n",
    "\n",
    "# data collection for live graph\n",
    "        time_data.append(t)\n",
    "        disp_data.append(displacement)\n",
    "# store max. 300 data\n",
    "        if len(time_data) > 300:\n",
    "            time_data.pop(0)\n",
    "            disp_data.pop(0)\n",
    "\n",
    "    pygame.quit()"
   ]
  },
  {
   "cell_type": "code",
   "execution_count": 116,
   "id": "83e21bca-445f-4283-8413-1fec6c8ff1f3",
   "metadata": {},
   "outputs": [],
   "source": [
    "# matplotlib live graph function\n",
    "def run_plot():\n",
    "    plt.ion()\n",
    "    fig, ax = plt.subplots()\n",
    "    line, = ax.plot([], [], color='cyan')\n",
    "    ax.set_xlim(0, 10)\n",
    "    ax.set_ylim(-AMPLITUDE - 20, AMPLITUDE + 20)\n",
    "    ax.set_title(\"Displacement vs Time (Real-Time)\")\n",
    "    ax.set_xlabel(\"Time (s)\")\n",
    "    ax.set_ylabel(\"Displacement (px)\")\n",
    "\n",
    "    while True:\n",
    "        if time_data:\n",
    "            line.set_xdata(time_data)\n",
    "            line.set_ydata(disp_data)\n",
    "            ax.set_xlim(max(0, time_data[-1] - 10), time_data[-1] + 1)\n",
    "            fig.canvas.draw()\n",
    "            fig.canvas.flush_events()\n",
    "        time.sleep(0.05)\n"
   ]
  },
  {
   "cell_type": "code",
   "execution_count": 117,
   "id": "0c0875df-032a-476d-9bea-e3fd612864a0",
   "metadata": {},
   "outputs": [
    {
     "data": {
      "image/png": "[encoded data removed]",
      "text/plain": [
       "<Figure size 640x480 with 1 Axes>"
      ]
     },
     "metadata": {},
     "output_type": "display_data"
    }
   ],
   "source": [
    "# active two thread(pygame + matplotlib)\n",
    "if __name__ == '__main__':\n",
    "    threading.Thread(target=run_plot, daemon=True).start()\n",
    "    run_pygame()"
   ]
  }
 ],
 "metadata": {
  "kernelspec": {
   "display_name": "Python [conda env:base] *",
   "language": "python",
   "name": "conda-base-py"
  },
  "language_info": {
   "codemirror_mode": {
    "name": "ipython",
    "version": 3
   },
   "file_extension": ".py",
   "mimetype": "text/x-python",
   "name": "python",
   "nbconvert_exporter": "python",
   "pygments_lexer": "ipython3",
   "version": "3.12.7"
  }
 },
 "nbformat": 4,
 "nbformat_minor": 5
}
